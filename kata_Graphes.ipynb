{
 "cells": [
  {
   "cell_type": "markdown",
   "id": "8308e570",
   "metadata": {},
   "source": [
    "### Hello everyone and welcome. This is the start of a great adventure with the graph libraries! let's start by importing the mean libraries so that we will be ok for the next part\n"
   ]
  },
  {
   "cell_type": "code",
   "execution_count": 1,
   "id": "1ce482e9",
   "metadata": {},
   "outputs": [
    {
     "name": "stderr",
     "output_type": "stream",
     "text": [
      "Matplotlib is building the font cache; this may take a moment.\n"
     ]
    }
   ],
   "source": [
    "import pandas as pd\n",
    "import seaborn as sns\n",
    "import numpy as np\n",
    "from matplotlib import pyplot as plt"
   ]
  },
  {
   "cell_type": "markdown",
   "id": "c0cd6b5c",
   "metadata": {},
   "source": [
    "#### 1) graphe 1 : Réaliser un graphique avec deux axes. L'axe des abscisses va de 0 à 50 et s'intitule \"Axe des x\". L'axe des ordonnées s'intitule \"Axe des y\".\n",
    "```Tracer la droite d'équation : x = 3y. Avec x allant de 0 à 50.\n",
    "Le graphe possède le titre suivant \"Tracer une droite\" et la droite est de couleur rouge.```"
   ]
  },
  {
   "cell_type": "code",
   "execution_count": 6,
   "id": "247986dc",
   "metadata": {},
   "outputs": [],
   "source": [
    "#Création de la fonction mathématique (fonction affine) qui sera par la suite appeler pour \n",
    "def f(x):\n",
    "    return x*(1/3)"
   ]
  },
  {
   "cell_type": "code",
   "execution_count": 7,
   "id": "55fd4144",
   "metadata": {
    "scrolled": true
   },
   "outputs": [
    {
     "data": {
      "image/png": "[encoded data removed]",
      "text/plain": [
       "<Figure size 432x288 with 1 Axes>"
      ]
     },
     "metadata": {
      "needs_background": "light"
     },
     "output_type": "display_data"
    }
   ],
   "source": [
    "plt.plot([f(x) for x in range(50)], color = \"C3\")\n",
    "plt.title('Tracer une droite')\n",
    "plt.ylabel('Axe des Y')\n",
    "plt.xlabel('Axe des X')\n",
    "\n",
    "plt.show()"
   ]
  },
  {
   "cell_type": "markdown",
   "id": "3348b34d",
   "metadata": {},
   "source": [
    "#### 2) graphe 2 : Réaliser un graphe qui donne la courbe du profit total réalisé chaque mois"
   ]
  },
  {
   "cell_type": "code",
   "execution_count": 12,
   "id": "c1848c32",
   "metadata": {
    "scrolled": true
   },
   "outputs": [
    {
     "data": {
      "text/html": [
       "<div>\n",
       "<style scoped>\n",
       "    .dataframe tbody tr th:only-of-type {\n",
       "        vertical-align: middle;\n",
       "    }\n",
       "\n",
       "    .dataframe tbody tr th {\n",
       "        vertical-align: top;\n",
       "    }\n",
       "\n",
       "    .dataframe thead th {\n",
       "        text-align: right;\n",
       "    }\n",
       "</style>\n",
       "<table border=\"1\" class=\"dataframe\">\n",
       "  <thead>\n",
       "    <tr style=\"text-align: right;\">\n",
       "      <th></th>\n",
       "      <th>month_number</th>\n",
       "      <th>facecream</th>\n",
       "      <th>facewash</th>\n",
       "      <th>toothpaste</th>\n",
       "      <th>bathingsoap</th>\n",
       "      <th>shampoo</th>\n",
       "      <th>moisturizer</th>\n",
       "      <th>total_units</th>\n",
       "      <th>total_profit</th>\n",
       "    </tr>\n",
       "  </thead>\n",
       "  <tbody>\n",
       "    <tr>\n",
       "      <th>0</th>\n",
       "      <td>1</td>\n",
       "      <td>2500</td>\n",
       "      <td>1500</td>\n",
       "      <td>5200</td>\n",
       "      <td>9200</td>\n",
       "      <td>1200</td>\n",
       "      <td>1500</td>\n",
       "      <td>21100</td>\n",
       "      <td>211000</td>\n",
       "    </tr>\n",
       "    <tr>\n",
       "      <th>1</th>\n",
       "      <td>2</td>\n",
       "      <td>2630</td>\n",
       "      <td>1200</td>\n",
       "      <td>5100</td>\n",
       "      <td>6100</td>\n",
       "      <td>2100</td>\n",
       "      <td>1200</td>\n",
       "      <td>18330</td>\n",
       "      <td>183300</td>\n",
       "    </tr>\n",
       "    <tr>\n",
       "      <th>2</th>\n",
       "      <td>3</td>\n",
       "      <td>2140</td>\n",
       "      <td>1340</td>\n",
       "      <td>4550</td>\n",
       "      <td>9550</td>\n",
       "      <td>3550</td>\n",
       "      <td>1340</td>\n",
       "      <td>22470</td>\n",
       "      <td>224700</td>\n",
       "    </tr>\n",
       "    <tr>\n",
       "      <th>3</th>\n",
       "      <td>4</td>\n",
       "      <td>3400</td>\n",
       "      <td>1130</td>\n",
       "      <td>5870</td>\n",
       "      <td>8870</td>\n",
       "      <td>1870</td>\n",
       "      <td>1130</td>\n",
       "      <td>22270</td>\n",
       "      <td>222700</td>\n",
       "    </tr>\n",
       "    <tr>\n",
       "      <th>4</th>\n",
       "      <td>5</td>\n",
       "      <td>3600</td>\n",
       "      <td>1740</td>\n",
       "      <td>4560</td>\n",
       "      <td>7760</td>\n",
       "      <td>1560</td>\n",
       "      <td>1740</td>\n",
       "      <td>20960</td>\n",
       "      <td>209600</td>\n",
       "    </tr>\n",
       "  </tbody>\n",
       "</table>\n",
       "</div>"
      ],
      "text/plain": [
       "   month_number  facecream  facewash  toothpaste  bathingsoap  shampoo  \\\n",
       "0             1       2500      1500        5200         9200     1200   \n",
       "1             2       2630      1200        5100         6100     2100   \n",
       "2             3       2140      1340        4550         9550     3550   \n",
       "3             4       3400      1130        5870         8870     1870   \n",
       "4             5       3600      1740        4560         7760     1560   \n",
       "\n",
       "   moisturizer  total_units  total_profit  \n",
       "0         1500        21100        211000  \n",
       "1         1200        18330        183300  \n",
       "2         1340        22470        224700  \n",
       "3         1130        22270        222700  \n",
       "4         1740        20960        209600  "
      ]
     },
     "execution_count": 12,
     "metadata": {},
     "output_type": "execute_result"
    }
   ],
   "source": [
    "# avant tout débutons par importer les données et créons notre dataframe\n",
    "\n",
    "df_sales_data = pd.read_csv('./Datas/company_sales_data.csv', encoding='utf-8',  sep=',')\n",
    "df_sales_data.head()"
   ]
  },
  {
   "cell_type": "code",
   "execution_count": 14,
   "id": "348cdc05",
   "metadata": {},
   "outputs": [
    {
     "data": {
      "image/png": "[encoded data removed]",
      "text/plain": [
       "<Figure size 432x288 with 1 Axes>"
      ]
     },
     "metadata": {
      "needs_background": "light"
     },
     "output_type": "display_data"
    }
   ],
   "source": [
    "#Comme nous avons pu récupérer nos données nous sommes en mesure de réaliser notre graphique portant sur les profits de la firme à l'aide des données de la denrière colonne\n",
    "\n",
    "plt.plot(df_sales_data.month_number, df_sales_data.total_profit)\n",
    "plt.title('Profit mensuel')\n",
    "plt.ylabel('Profit en €')\n",
    "plt.xlabel('Mois')\n",
    "plt.show()"
   ]
  },
  {
   "cell_type": "markdown",
   "id": "1873fdb9",
   "metadata": {},
   "source": [
    "#### 3) graphe 3 : Réaliser un graphe qui donne la courbe de profit pour chaque produit, en fonction du temps.\n",
    "```Chaque courbe aura une couleur différente et nous souhaitons une légende qui indique quelle couleur correspond à quel produit. ```"
   ]
  },
  {
   "cell_type": "code",
   "execution_count": 20,
   "id": "3361d839",
   "metadata": {},
   "outputs": [
    {
     "data": {
      "image/png": "[encoded data removed]",
      "text/plain": [
       "<Figure size 432x288 with 1 Axes>"
      ]
     },
     "metadata": {
      "needs_background": "light"
     },
     "output_type": "display_data"
    }
   ],
   "source": [
    "plt.plot(df_sales_data.month_number, df_sales_data.facecream, label='Facecream')\n",
    "plt.plot(df_sales_data.month_number, df_sales_data.toothpaste, label='Toothpaste')\n",
    "plt.plot(df_sales_data.month_number, df_sales_data.bathingsoap, label='Bathingsoap')\n",
    "plt.plot(df_sales_data.month_number, df_sales_data.shampoo, label='Shampoo')\n",
    "plt.plot(df_sales_data.month_number, df_sales_data.moisturizer, label='Moisturizer')\n",
    "plt.plot(df_sales_data.month_number, df_sales_data.facewash, label='Facewash')\n",
    "\n",
    "plt.legend(loc=\"upper left\", title=\"légende\", frameon=True)\n",
    "plt.title('Profit mensuel par produit')\n",
    "plt.ylabel('Profit par produit en €')\n",
    "plt.xlabel('Mois')\n",
    "plt.show()"
   ]
  },
  {
   "cell_type": "markdown",
   "id": "15929f6d",
   "metadata": {},
   "source": [
    "#### 4) graphe 4 : Réaliser un graphe qui compare, chaque mois, le nombre d'unités vendus pour chaque produit. A vous de choisir la meilleure représentation pour connaître le produit le plus vendu par mois."
   ]
  },
  {
   "cell_type": "code",
   "execution_count": 36,
   "id": "d6c88ae4",
   "metadata": {},
   "outputs": [
    {
     "data": {
      "image/png": "[encoded data removed]",
      "text/plain": [
       "<Figure size 720x720 with 1 Axes>"
      ]
     },
     "metadata": {
      "needs_background": "light"
     },
     "output_type": "display_data"
    }
   ],
   "source": [
    "\n",
    "bar_width = 0.15\n",
    "fig, ax = plt.subplots()\n",
    "fig.set_size_inches(10, 10)\n",
    "\n",
    "index = np.arange(df_sales_data.month_number.size)\n",
    "facecream = ax.bar(index, df_sales_data.facecream, bar_width, label=\"facecream\")\n",
    "facewash = ax.bar(index+bar_width, df_sales_data.facewash, bar_width, label=\"facewash\")\n",
    "toothpaste = ax.bar(index + 2*bar_width , df_sales_data.toothpaste, bar_width, label=\"toothpaste\")\n",
    "bathingsoap = ax.bar(index + 3*bar_width , df_sales_data.bathingsoap, bar_width, label=\"bathingsoap\")\n",
    "shampoo = ax.bar(index + 4*bar_width , df_sales_data.shampoo, bar_width, label=\"shampoo\")\n",
    "moisturizer = ax.bar(index + 5*bar_width , df_sales_data.moisturizer, bar_width, label=\"moisturizer\")\n",
    "\n",
    "ax.set_xlabel('Mois')\n",
    "ax.set_ylabel('Ventes par produit en €')\n",
    "ax.set_title('Histogramme des ventes par produit')\n",
    "ax.set_xticks(index + bar_width / 2)\n",
    "ax.set_xticklabels(['Janvier', 'Fevrier', 'Mars', 'Avril', 'Mai', 'Juin', 'Juillet', 'Aout', 'Sept', 'Oct', 'Nov', 'Dec'])\n",
    "ax.legend()\n",
    "plt.show()"
   ]
  },
  {
   "cell_type": "markdown",
   "id": "b373607c",
   "metadata": {},
   "source": [
    "#### 5) graphe 5 : Réaliser  un graphe qui donne la contribution de chaque produit dans le profit total (sur l'année étudiée). Merci d'ajouter le pourcentage pour chaque produit."
   ]
  },
  {
   "cell_type": "code",
   "execution_count": 38,
   "id": "635c4e54",
   "metadata": {},
   "outputs": [
    {
     "data": {
      "image/png": "[encoded data removed]",
      "text/plain": [
       "<Figure size 432x288 with 1 Axes>"
      ]
     },
     "metadata": {},
     "output_type": "display_data"
    }
   ],
   "source": [
    "plt.pie([df_sales_data.facecream.sum(), df_sales_data.facewash.sum(), df_sales_data.moisturizer.sum(), df_sales_data.shampoo.sum(),\n",
    "         df_sales_data.toothpaste.sum(), df_sales_data.bathingsoap.sum()], \n",
    "        labels = [\"Facecream\", \"Facewash\", \"Moisturizer\", \"Shampoo\", \"Toothpaste\", \"Bathingsoap\"],\n",
    "       autopct =\"%1.0f%%\")\n",
    "\n",
    "plt.title('Contribution de chaque produit à la génération du profit total')\n",
    "\n",
    "plt.show()"
   ]
  },
  {
   "cell_type": "markdown",
   "id": "4ca480ad",
   "metadata": {},
   "source": [
    "#### 6) graphe 6: Enoncé trop long  :( j'ai la flemme de recopier sorry !!!"
   ]
  },
  {
   "cell_type": "code",
   "execution_count": 48,
   "id": "f038a74e",
   "metadata": {},
   "outputs": [
    {
     "data": {
      "text/html": [
       "<div>\n",
       "<style scoped>\n",
       "    .dataframe tbody tr th:only-of-type {\n",
       "        vertical-align: middle;\n",
       "    }\n",
       "\n",
       "    .dataframe tbody tr th {\n",
       "        vertical-align: top;\n",
       "    }\n",
       "\n",
       "    .dataframe thead th {\n",
       "        text-align: right;\n",
       "    }\n",
       "</style>\n",
       "<table border=\"1\" class=\"dataframe\">\n",
       "  <thead>\n",
       "    <tr style=\"text-align: right;\">\n",
       "      <th></th>\n",
       "      <th>client_id</th>\n",
       "      <th>sex</th>\n",
       "      <th>birth</th>\n",
       "    </tr>\n",
       "  </thead>\n",
       "  <tbody>\n",
       "    <tr>\n",
       "      <th>0</th>\n",
       "      <td>c_4410</td>\n",
       "      <td>f</td>\n",
       "      <td>1967</td>\n",
       "    </tr>\n",
       "    <tr>\n",
       "      <th>1</th>\n",
       "      <td>c_7839</td>\n",
       "      <td>f</td>\n",
       "      <td>1975</td>\n",
       "    </tr>\n",
       "    <tr>\n",
       "      <th>2</th>\n",
       "      <td>c_1699</td>\n",
       "      <td>f</td>\n",
       "      <td>1984</td>\n",
       "    </tr>\n",
       "    <tr>\n",
       "      <th>3</th>\n",
       "      <td>c_5961</td>\n",
       "      <td>f</td>\n",
       "      <td>1962</td>\n",
       "    </tr>\n",
       "    <tr>\n",
       "      <th>4</th>\n",
       "      <td>c_5320</td>\n",
       "      <td>m</td>\n",
       "      <td>1943</td>\n",
       "    </tr>\n",
       "  </tbody>\n",
       "</table>\n",
       "</div>"
      ],
      "text/plain": [
       "  client_id sex  birth\n",
       "0    c_4410   f   1967\n",
       "1    c_7839   f   1975\n",
       "2    c_1699   f   1984\n",
       "3    c_5961   f   1962\n",
       "4    c_5320   m   1943"
      ]
     },
     "execution_count": 48,
     "metadata": {},
     "output_type": "execute_result"
    }
   ],
   "source": [
    "df_customers = pd.read_csv('./datas/dataset_bookstore/customers.csv', encoding='utf-8',  sep=',')\n",
    "df_products = pd.read_csv('./datas/dataset_bookstore/products.csv', encoding='utf-8',  sep=',')\n",
    "df_transactions = pd.read_csv('./datas/dataset_bookstore/transactions.csv', encoding='utf-8',  sep=',')\n",
    "\n",
    "df_customers.head()\n"
   ]
  },
  {
   "cell_type": "code",
   "execution_count": 45,
   "id": "59e0497b",
   "metadata": {},
   "outputs": [
    {
     "data": {
      "text/html": [
       "<div>\n",
       "<style scoped>\n",
       "    .dataframe tbody tr th:only-of-type {\n",
       "        vertical-align: middle;\n",
       "    }\n",
       "\n",
       "    .dataframe tbody tr th {\n",
       "        vertical-align: top;\n",
       "    }\n",
       "\n",
       "    .dataframe thead th {\n",
       "        text-align: right;\n",
       "    }\n",
       "</style>\n",
       "<table border=\"1\" class=\"dataframe\">\n",
       "  <thead>\n",
       "    <tr style=\"text-align: right;\">\n",
       "      <th></th>\n",
       "      <th>id_prod</th>\n",
       "      <th>price</th>\n",
       "      <th>categ</th>\n",
       "    </tr>\n",
       "  </thead>\n",
       "  <tbody>\n",
       "    <tr>\n",
       "      <th>0</th>\n",
       "      <td>0_1421</td>\n",
       "      <td>19.99</td>\n",
       "      <td>0</td>\n",
       "    </tr>\n",
       "    <tr>\n",
       "      <th>1</th>\n",
       "      <td>0_1368</td>\n",
       "      <td>5.13</td>\n",
       "      <td>0</td>\n",
       "    </tr>\n",
       "    <tr>\n",
       "      <th>2</th>\n",
       "      <td>0_731</td>\n",
       "      <td>17.99</td>\n",
       "      <td>0</td>\n",
       "    </tr>\n",
       "    <tr>\n",
       "      <th>3</th>\n",
       "      <td>1_587</td>\n",
       "      <td>4.99</td>\n",
       "      <td>1</td>\n",
       "    </tr>\n",
       "    <tr>\n",
       "      <th>4</th>\n",
       "      <td>0_1507</td>\n",
       "      <td>3.99</td>\n",
       "      <td>0</td>\n",
       "    </tr>\n",
       "  </tbody>\n",
       "</table>\n",
       "</div>"
      ],
      "text/plain": [
       "  id_prod  price  categ\n",
       "0  0_1421  19.99      0\n",
       "1  0_1368   5.13      0\n",
       "2   0_731  17.99      0\n",
       "3   1_587   4.99      1\n",
       "4  0_1507   3.99      0"
      ]
     },
     "execution_count": 45,
     "metadata": {},
     "output_type": "execute_result"
    }
   ],
   "source": [
    "df_products.head()\n"
   ]
  },
  {
   "cell_type": "code",
   "execution_count": 47,
   "id": "5c441864",
   "metadata": {},
   "outputs": [
    {
     "data": {
      "text/html": [
       "<div>\n",
       "<style scoped>\n",
       "    .dataframe tbody tr th:only-of-type {\n",
       "        vertical-align: middle;\n",
       "    }\n",
       "\n",
       "    .dataframe tbody tr th {\n",
       "        vertical-align: top;\n",
       "    }\n",
       "\n",
       "    .dataframe thead th {\n",
       "        text-align: right;\n",
       "    }\n",
       "</style>\n",
       "<table border=\"1\" class=\"dataframe\">\n",
       "  <thead>\n",
       "    <tr style=\"text-align: right;\">\n",
       "      <th></th>\n",
       "      <th>id_prod</th>\n",
       "      <th>date</th>\n",
       "      <th>session_id</th>\n",
       "      <th>client_id</th>\n",
       "    </tr>\n",
       "  </thead>\n",
       "  <tbody>\n",
       "    <tr>\n",
       "      <th>0</th>\n",
       "      <td>0_1483</td>\n",
       "      <td>2021-04-10 18:37:28.723910</td>\n",
       "      <td>s_18746</td>\n",
       "      <td>c_4450</td>\n",
       "    </tr>\n",
       "    <tr>\n",
       "      <th>1</th>\n",
       "      <td>2_226</td>\n",
       "      <td>2022-02-03 01:55:53.276402</td>\n",
       "      <td>s_159142</td>\n",
       "      <td>c_277</td>\n",
       "    </tr>\n",
       "    <tr>\n",
       "      <th>2</th>\n",
       "      <td>1_374</td>\n",
       "      <td>2021-09-23 15:13:46.938559</td>\n",
       "      <td>s_94290</td>\n",
       "      <td>c_4270</td>\n",
       "    </tr>\n",
       "    <tr>\n",
       "      <th>3</th>\n",
       "      <td>0_2186</td>\n",
       "      <td>2021-10-17 03:27:18.783634</td>\n",
       "      <td>s_105936</td>\n",
       "      <td>c_4597</td>\n",
       "    </tr>\n",
       "    <tr>\n",
       "      <th>4</th>\n",
       "      <td>0_1351</td>\n",
       "      <td>2021-07-17 20:34:25.800563</td>\n",
       "      <td>s_63642</td>\n",
       "      <td>c_1242</td>\n",
       "    </tr>\n",
       "  </tbody>\n",
       "</table>\n",
       "</div>"
      ],
      "text/plain": [
       "  id_prod                        date session_id client_id\n",
       "0  0_1483  2021-04-10 18:37:28.723910    s_18746    c_4450\n",
       "1   2_226  2022-02-03 01:55:53.276402   s_159142     c_277\n",
       "2   1_374  2021-09-23 15:13:46.938559    s_94290    c_4270\n",
       "3  0_2186  2021-10-17 03:27:18.783634   s_105936    c_4597\n",
       "4  0_1351  2021-07-17 20:34:25.800563    s_63642    c_1242"
      ]
     },
     "execution_count": 47,
     "metadata": {},
     "output_type": "execute_result"
    }
   ],
   "source": [
    "df_transactions.head()"
   ]
  },
  {
   "cell_type": "code",
   "execution_count": 53,
   "id": "d63cb67c",
   "metadata": {},
   "outputs": [
    {
     "data": {
      "text/html": [
       "<div>\n",
       "<style scoped>\n",
       "    .dataframe tbody tr th:only-of-type {\n",
       "        vertical-align: middle;\n",
       "    }\n",
       "\n",
       "    .dataframe tbody tr th {\n",
       "        vertical-align: top;\n",
       "    }\n",
       "\n",
       "    .dataframe thead th {\n",
       "        text-align: right;\n",
       "    }\n",
       "</style>\n",
       "<table border=\"1\" class=\"dataframe\">\n",
       "  <thead>\n",
       "    <tr style=\"text-align: right;\">\n",
       "      <th></th>\n",
       "      <th>id_prod</th>\n",
       "      <th>price</th>\n",
       "      <th>categ</th>\n",
       "      <th>date</th>\n",
       "      <th>session_id</th>\n",
       "      <th>client_id</th>\n",
       "      <th>date_cleaned</th>\n",
       "      <th>time</th>\n",
       "      <th>sex</th>\n",
       "      <th>birth</th>\n",
       "    </tr>\n",
       "  </thead>\n",
       "  <tbody>\n",
       "    <tr>\n",
       "      <th>0</th>\n",
       "      <td>0_1421</td>\n",
       "      <td>19.99</td>\n",
       "      <td>0</td>\n",
       "      <td>2021-05-12 23:26:29.885083</td>\n",
       "      <td>s_33709</td>\n",
       "      <td>c_7954</td>\n",
       "      <td>2021-05-12</td>\n",
       "      <td>23:26:29</td>\n",
       "      <td>m</td>\n",
       "      <td>1973</td>\n",
       "    </tr>\n",
       "    <tr>\n",
       "      <th>1</th>\n",
       "      <td>0_1142</td>\n",
       "      <td>3.42</td>\n",
       "      <td>0</td>\n",
       "      <td>2021-03-24 00:54:59.507581</td>\n",
       "      <td>s_10590</td>\n",
       "      <td>c_7954</td>\n",
       "      <td>2021-03-24</td>\n",
       "      <td>00:54:59</td>\n",
       "      <td>m</td>\n",
       "      <td>1973</td>\n",
       "    </tr>\n",
       "    <tr>\n",
       "      <th>2</th>\n",
       "      <td>0_1446</td>\n",
       "      <td>8.09</td>\n",
       "      <td>0</td>\n",
       "      <td>2021-11-26 18:04:33.019608</td>\n",
       "      <td>s_125461</td>\n",
       "      <td>c_7954</td>\n",
       "      <td>2021-11-26</td>\n",
       "      <td>18:04:33</td>\n",
       "      <td>m</td>\n",
       "      <td>1973</td>\n",
       "    </tr>\n",
       "    <tr>\n",
       "      <th>3</th>\n",
       "      <td>0_2291</td>\n",
       "      <td>12.99</td>\n",
       "      <td>0</td>\n",
       "      <td>2021-05-29 18:25:02.094891</td>\n",
       "      <td>s_41299</td>\n",
       "      <td>c_7954</td>\n",
       "      <td>2021-05-29</td>\n",
       "      <td>18:25:02</td>\n",
       "      <td>m</td>\n",
       "      <td>1973</td>\n",
       "    </tr>\n",
       "    <tr>\n",
       "      <th>4</th>\n",
       "      <td>1_385</td>\n",
       "      <td>25.99</td>\n",
       "      <td>1</td>\n",
       "      <td>2021-06-01 20:41:40.157683</td>\n",
       "      <td>s_42731</td>\n",
       "      <td>c_7954</td>\n",
       "      <td>2021-06-01</td>\n",
       "      <td>20:41:40</td>\n",
       "      <td>m</td>\n",
       "      <td>1973</td>\n",
       "    </tr>\n",
       "  </tbody>\n",
       "</table>\n",
       "</div>"
      ],
      "text/plain": [
       "  id_prod  price  categ                        date session_id client_id  \\\n",
       "0  0_1421  19.99      0  2021-05-12 23:26:29.885083    s_33709    c_7954   \n",
       "1  0_1142   3.42      0  2021-03-24 00:54:59.507581    s_10590    c_7954   \n",
       "2  0_1446   8.09      0  2021-11-26 18:04:33.019608   s_125461    c_7954   \n",
       "3  0_2291  12.99      0  2021-05-29 18:25:02.094891    s_41299    c_7954   \n",
       "4   1_385  25.99      1  2021-06-01 20:41:40.157683    s_42731    c_7954   \n",
       "\n",
       "  date_cleaned      time sex  birth  \n",
       "0   2021-05-12  23:26:29   m   1973  \n",
       "1   2021-03-24  00:54:59   m   1973  \n",
       "2   2021-11-26  18:04:33   m   1973  \n",
       "3   2021-05-29  18:25:02   m   1973  \n",
       "4   2021-06-01  20:41:40   m   1973  "
      ]
     },
     "execution_count": 53,
     "metadata": {},
     "output_type": "execute_result"
    }
   ],
   "source": [
    "#Effections de nouveau quelque petit traitement de nos fichiers afin qu'ils puissent être exploitable\n",
    "df_transactions[\"date_cleaned\"] = df_transactions['date'].str[0:10]\n",
    "df_transactions[\"time\"] = df_transactions['date'].str[11:19]\n",
    "df_transactions[df_transactions['date_cleaned'] >= '2022-01-01']\n",
    "df_transactions = df_transactions.drop(df_transactions[df_transactions['date_cleaned'] >= '2022-01-01'].index)\n",
    "df_transactions['date_cleaned'] = pd.to_datetime(df_transactions[\"date_cleaned\"], format = '%Y-%m-%d' )\n",
    "df_transactions['time'] = pd.to_datetime(df_transactions['time'], format= '%H:%M:%S').dt.time\n",
    "df_products[df_products['price'] <= 0]\n",
    "df_products = df_products.drop(df_products[df_products['price'] <= 0].index)\n",
    "\n",
    "#Maintenant regroupons nos données au sein d'un unique dataframe\n",
    "df_bookstore = pd.merge(df_products, df_transactions, left_on=\"id_prod\", right_on=\"id_prod\")\n",
    "df_bookstore = pd.merge(df_bookstore, df_customers, left_on=\"client_id\", right_on=\"client_id\")\n",
    "df_bookstore.head()"
   ]
  },
  {
   "cell_type": "code",
   "execution_count": 55,
   "id": "59e02139",
   "metadata": {},
   "outputs": [
    {
     "data": {
      "image/png": "[encoded data removed]",
      "text/plain": [
       "<Figure size 432x288 with 1 Axes>"
      ]
     },
     "metadata": {},
     "output_type": "display_data"
    }
   ],
   "source": [
    "plt.pie([df_bookstore[df_bookstore.categ == 0].id_prod.unique().size, df_bookstore[df_bookstore.categ == 1].id_prod.unique().size,\n",
    "         df_bookstore[df_bookstore.categ == 2].id_prod.unique().size], \n",
    "        labels = [\"Catégorie 0\", \"Catégorie 1\", \"Caéegorie 2\"],autopct =\"%1.0f%%\")\n",
    "\n",
    "plt.title('Répartition des produits par catégorie')\n",
    "\n",
    "plt.show()"
   ]
  },
  {
   "cell_type": "markdown",
   "id": "79791cf2",
   "metadata": {},
   "source": [
    "#### J'ai réalisé les 6 premiers exos en totalité!... là j'ai trop la flemmmmmme de réaliser les suivants mais le projet du jour était sympa!!! PEACE :)"
   ]
  }
 ],
 "metadata": {
  "kernelspec": {
   "display_name": "Python 3 (ipykernel)",
   "language": "python",
   "name": "python3"
  },
  "language_info": {
   "codemirror_mode": {
    "name": "ipython",
    "version": 3
   },
   "file_extension": ".py",
   "mimetype": "text/x-python",
   "name": "python",
   "nbconvert_exporter": "python",
   "pygments_lexer": "ipython3",
   "version": "3.9.7"
  }
 },
 "nbformat": 4,
 "nbformat_minor": 5
}
